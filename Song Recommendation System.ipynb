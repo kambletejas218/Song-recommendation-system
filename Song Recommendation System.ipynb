{
 "cells": [
  {
   "cell_type": "code",
   "execution_count": 1,
   "id": "e287dc53-855a-4ad5-b8a7-db9c4d22699c",
   "metadata": {},
   "outputs": [],
   "source": [
    "import numpy as np\n",
    "import pandas as pd"
   ]
  },
  {
   "cell_type": "code",
   "execution_count": 2,
   "id": "d9419f0a-af9f-41b4-ae30-6acf3fbe0b2f",
   "metadata": {},
   "outputs": [
    {
     "data": {
      "text/html": [
       "<div>\n",
       "<style scoped>\n",
       "    .dataframe tbody tr th:only-of-type {\n",
       "        vertical-align: middle;\n",
       "    }\n",
       "\n",
       "    .dataframe tbody tr th {\n",
       "        vertical-align: top;\n",
       "    }\n",
       "\n",
       "    .dataframe thead th {\n",
       "        text-align: right;\n",
       "    }\n",
       "</style>\n",
       "<table border=\"1\" class=\"dataframe\">\n",
       "  <thead>\n",
       "    <tr style=\"text-align: right;\">\n",
       "      <th></th>\n",
       "      <th>Unnamed: 0</th>\n",
       "      <th>Song</th>\n",
       "      <th>Album</th>\n",
       "      <th>Artist Names</th>\n",
       "      <th>Artist(s) Genres</th>\n",
       "      <th>Hot100 Ranking Year</th>\n",
       "      <th>Hot100 Rank</th>\n",
       "      <th>Song Length(ms)</th>\n",
       "      <th>Popularity</th>\n",
       "      <th>Acousticness</th>\n",
       "      <th>Danceability</th>\n",
       "      <th>Energy</th>\n",
       "      <th>Instrumentalness</th>\n",
       "      <th>Liveness</th>\n",
       "      <th>Loudness</th>\n",
       "      <th>Speechiness</th>\n",
       "      <th>Tempo</th>\n",
       "      <th>Valence</th>\n",
       "    </tr>\n",
       "  </thead>\n",
       "  <tbody>\n",
       "    <tr>\n",
       "      <th>0</th>\n",
       "      <td>0</td>\n",
       "      <td>Prisoner of Love - Remastered - 1992</td>\n",
       "      <td>Today &amp; Yesterday</td>\n",
       "      <td>Perry Como</td>\n",
       "      <td>adult standards, easy listening</td>\n",
       "      <td>1946</td>\n",
       "      <td>1</td>\n",
       "      <td>211866</td>\n",
       "      <td>19</td>\n",
       "      <td>0.767</td>\n",
       "      <td>0.247</td>\n",
       "      <td>0.1820</td>\n",
       "      <td>0.00209</td>\n",
       "      <td>0.1670</td>\n",
       "      <td>-11.121</td>\n",
       "      <td>0.0328</td>\n",
       "      <td>80.064</td>\n",
       "      <td>0.185</td>\n",
       "    </tr>\n",
       "    <tr>\n",
       "      <th>1</th>\n",
       "      <td>1</td>\n",
       "      <td>To Each His Own</td>\n",
       "      <td>The Best Of The Mercury Years</td>\n",
       "      <td>Eddy Howard</td>\n",
       "      <td>british dance band</td>\n",
       "      <td>1946</td>\n",
       "      <td>2</td>\n",
       "      <td>184293</td>\n",
       "      <td>25</td>\n",
       "      <td>0.947</td>\n",
       "      <td>0.344</td>\n",
       "      <td>0.0596</td>\n",
       "      <td>0.00006</td>\n",
       "      <td>0.1810</td>\n",
       "      <td>-16.766</td>\n",
       "      <td>0.0394</td>\n",
       "      <td>81.037</td>\n",
       "      <td>0.150</td>\n",
       "    </tr>\n",
       "    <tr>\n",
       "      <th>2</th>\n",
       "      <td>2</td>\n",
       "      <td>The Gypsy</td>\n",
       "      <td>The Anthology</td>\n",
       "      <td>The Ink Spots</td>\n",
       "      <td>vocal harmony group, lounge</td>\n",
       "      <td>1946</td>\n",
       "      <td>3</td>\n",
       "      <td>164533</td>\n",
       "      <td>33</td>\n",
       "      <td>0.812</td>\n",
       "      <td>0.531</td>\n",
       "      <td>0.1250</td>\n",
       "      <td>0.00000</td>\n",
       "      <td>0.1030</td>\n",
       "      <td>-15.463</td>\n",
       "      <td>0.0552</td>\n",
       "      <td>76.056</td>\n",
       "      <td>0.222</td>\n",
       "    </tr>\n",
       "    <tr>\n",
       "      <th>3</th>\n",
       "      <td>3</td>\n",
       "      <td>Five Minutes More</td>\n",
       "      <td>The Columbia Years (1943-1952): The Complete R...</td>\n",
       "      <td>Frank Sinatra</td>\n",
       "      <td>adult standards, lounge, easy listening</td>\n",
       "      <td>1946</td>\n",
       "      <td>4</td>\n",
       "      <td>154773</td>\n",
       "      <td>31</td>\n",
       "      <td>0.794</td>\n",
       "      <td>0.670</td>\n",
       "      <td>0.0625</td>\n",
       "      <td>0.00000</td>\n",
       "      <td>0.0762</td>\n",
       "      <td>-20.393</td>\n",
       "      <td>0.0611</td>\n",
       "      <td>142.894</td>\n",
       "      <td>0.569</td>\n",
       "    </tr>\n",
       "    <tr>\n",
       "      <th>4</th>\n",
       "      <td>4</td>\n",
       "      <td>Rumors Are Flying</td>\n",
       "      <td>1946 Broadcasts</td>\n",
       "      <td>Frankie Carle</td>\n",
       "      <td>space age pop, honky-tonk piano</td>\n",
       "      <td>1946</td>\n",
       "      <td>5</td>\n",
       "      <td>183133</td>\n",
       "      <td>27</td>\n",
       "      <td>0.951</td>\n",
       "      <td>0.332</td>\n",
       "      <td>0.2040</td>\n",
       "      <td>0.00252</td>\n",
       "      <td>0.6380</td>\n",
       "      <td>-15.557</td>\n",
       "      <td>0.0437</td>\n",
       "      <td>72.355</td>\n",
       "      <td>0.377</td>\n",
       "    </tr>\n",
       "  </tbody>\n",
       "</table>\n",
       "</div>"
      ],
      "text/plain": [
       "   Unnamed: 0                                  Song  \\\n",
       "0           0  Prisoner of Love - Remastered - 1992   \n",
       "1           1                       To Each His Own   \n",
       "2           2                             The Gypsy   \n",
       "3           3                     Five Minutes More   \n",
       "4           4                     Rumors Are Flying   \n",
       "\n",
       "                                               Album     Artist Names  \\\n",
       "0                                  Today & Yesterday      Perry Como    \n",
       "1                      The Best Of The Mercury Years     Eddy Howard    \n",
       "2                                      The Anthology   The Ink Spots    \n",
       "3  The Columbia Years (1943-1952): The Complete R...   Frank Sinatra    \n",
       "4                                    1946 Broadcasts   Frankie Carle    \n",
       "\n",
       "                            Artist(s) Genres  Hot100 Ranking Year  \\\n",
       "0           adult standards, easy listening                  1946   \n",
       "1                        british dance band                  1946   \n",
       "2               vocal harmony group, lounge                  1946   \n",
       "3   adult standards, lounge, easy listening                  1946   \n",
       "4           space age pop, honky-tonk piano                  1946   \n",
       "\n",
       "   Hot100 Rank  Song Length(ms)  Popularity  Acousticness  Danceability  \\\n",
       "0            1           211866          19         0.767         0.247   \n",
       "1            2           184293          25         0.947         0.344   \n",
       "2            3           164533          33         0.812         0.531   \n",
       "3            4           154773          31         0.794         0.670   \n",
       "4            5           183133          27         0.951         0.332   \n",
       "\n",
       "   Energy  Instrumentalness  Liveness  Loudness  Speechiness    Tempo  Valence  \n",
       "0  0.1820           0.00209    0.1670   -11.121       0.0328   80.064    0.185  \n",
       "1  0.0596           0.00006    0.1810   -16.766       0.0394   81.037    0.150  \n",
       "2  0.1250           0.00000    0.1030   -15.463       0.0552   76.056    0.222  \n",
       "3  0.0625           0.00000    0.0762   -20.393       0.0611  142.894    0.569  \n",
       "4  0.2040           0.00252    0.6380   -15.557       0.0437   72.355    0.377  "
      ]
     },
     "execution_count": 2,
     "metadata": {},
     "output_type": "execute_result"
    }
   ],
   "source": [
    "df = pd.read_csv('Spotify_song.csv')\n",
    "df.head()"
   ]
  },
  {
   "cell_type": "code",
   "execution_count": 3,
   "id": "85d18551-1f9f-4b71-a1dc-ee72a19eddf1",
   "metadata": {},
   "outputs": [],
   "source": [
    "df = df.drop(['Unnamed: 0','Hot100 Ranking Year','Song Length(ms)','Hot100 Ranking Year','Hot100 Rank','Song Length(ms)','Popularity','Acousticness','Danceability','Energy','Instrumentalness','Liveness','Loudness','Speechiness','Tempo','Valence'],axis=1)"
   ]
  },
  {
   "cell_type": "code",
   "execution_count": 4,
   "id": "7f4fee78-1b42-43d1-b25a-608151f0eb46",
   "metadata": {},
   "outputs": [
    {
     "data": {
      "text/plain": [
       "Song                0\n",
       "Album               0\n",
       "Artist Names        0\n",
       "Artist(s) Genres    0\n",
       "dtype: int64"
      ]
     },
     "execution_count": 4,
     "metadata": {},
     "output_type": "execute_result"
    }
   ],
   "source": [
    "df.isnull().sum()"
   ]
  },
  {
   "cell_type": "code",
   "execution_count": 5,
   "id": "6d22f02a-244f-43a7-8efd-5e9d60e46a11",
   "metadata": {},
   "outputs": [
    {
     "data": {
      "text/plain": [
       "Index(['Song', 'Album', 'Artist Names', 'Artist(s) Genres'], dtype='object')"
      ]
     },
     "execution_count": 5,
     "metadata": {},
     "output_type": "execute_result"
    }
   ],
   "source": [
    "df.columns"
   ]
  },
  {
   "cell_type": "code",
   "execution_count": 6,
   "id": "ef71a405-8b74-4e76-9176-8205ad9e7ca3",
   "metadata": {},
   "outputs": [
    {
     "data": {
      "text/plain": [
       "(6879, 4)"
      ]
     },
     "execution_count": 6,
     "metadata": {},
     "output_type": "execute_result"
    }
   ],
   "source": [
    "df.shape"
   ]
  },
  {
   "cell_type": "code",
   "execution_count": 7,
   "id": "8acf01fd-4f89-4091-9ab7-8485c2c4ef5b",
   "metadata": {},
   "outputs": [],
   "source": [
    "df = df.rename(columns={\n",
    "    'Artist Names': 'Artists',\n",
    "    'Artist(s) Genres': 'Genres',\n",
    "})"
   ]
  },
  {
   "cell_type": "code",
   "execution_count": 8,
   "id": "0321e84a-525a-4b63-bc59-f99d8f1c3909",
   "metadata": {},
   "outputs": [
    {
     "data": {
      "text/html": [
       "<div>\n",
       "<style scoped>\n",
       "    .dataframe tbody tr th:only-of-type {\n",
       "        vertical-align: middle;\n",
       "    }\n",
       "\n",
       "    .dataframe tbody tr th {\n",
       "        vertical-align: top;\n",
       "    }\n",
       "\n",
       "    .dataframe thead th {\n",
       "        text-align: right;\n",
       "    }\n",
       "</style>\n",
       "<table border=\"1\" class=\"dataframe\">\n",
       "  <thead>\n",
       "    <tr style=\"text-align: right;\">\n",
       "      <th></th>\n",
       "      <th>Song</th>\n",
       "      <th>Album</th>\n",
       "      <th>Artists</th>\n",
       "      <th>Genres</th>\n",
       "    </tr>\n",
       "  </thead>\n",
       "  <tbody>\n",
       "    <tr>\n",
       "      <th>0</th>\n",
       "      <td>Prisoner of Love - Remastered - 1992</td>\n",
       "      <td>Today &amp; Yesterday</td>\n",
       "      <td>Perry Como</td>\n",
       "      <td>adult standards, easy listening</td>\n",
       "    </tr>\n",
       "  </tbody>\n",
       "</table>\n",
       "</div>"
      ],
      "text/plain": [
       "                                   Song              Album       Artists  \\\n",
       "0  Prisoner of Love - Remastered - 1992  Today & Yesterday   Perry Como    \n",
       "\n",
       "                              Genres  \n",
       "0   adult standards, easy listening   "
      ]
     },
     "execution_count": 8,
     "metadata": {},
     "output_type": "execute_result"
    }
   ],
   "source": [
    "df.head(1)"
   ]
  },
  {
   "cell_type": "code",
   "execution_count": 9,
   "id": "7c018842-44d5-405c-84a3-f395aece9bf0",
   "metadata": {},
   "outputs": [
    {
     "data": {
      "text/plain": [
       "' broadway, hollywood, show tunes, movie tunes '"
      ]
     },
     "execution_count": 9,
     "metadata": {},
     "output_type": "execute_result"
    }
   ],
   "source": [
    "df.iloc[6000].Genres"
   ]
  },
  {
   "cell_type": "code",
   "execution_count": 10,
   "id": "8a21e8d2-cc36-4f19-8a6d-82c81acac99f",
   "metadata": {},
   "outputs": [
    {
     "data": {
      "text/plain": [
       "'Frozen (Original Motion Picture Soundtrack / Deluxe Edition)'"
      ]
     },
     "execution_count": 10,
     "metadata": {},
     "output_type": "execute_result"
    }
   ],
   "source": [
    "df.iloc[6000].Album"
   ]
  },
  {
   "cell_type": "code",
   "execution_count": 11,
   "id": "7178df49-97c0-487f-b18f-72863e6d298f",
   "metadata": {},
   "outputs": [],
   "source": [
    "import re\n",
    "df['Album'] = df['Album'].apply(lambda x: re.sub(r\"\\(.*?\\)/\", \"\", x).strip())"
   ]
  },
  {
   "cell_type": "code",
   "execution_count": 12,
   "id": "e4d9875b-8ce0-4394-a017-bd2390010bde",
   "metadata": {},
   "outputs": [],
   "source": [
    "df['Song'] = df['Song'].apply(lambda x: re.sub(r\"\\(.*?\\)\", \"\", x).strip())"
   ]
  },
  {
   "cell_type": "code",
   "execution_count": 13,
   "id": "4f8bd8bf-1b5e-4c77-bce3-ca37bafd67d3",
   "metadata": {},
   "outputs": [],
   "source": [
    "df['Artists'] = df['Artists'].str.replace(\" \", \"\")\n",
    "df['Album'] = df['Album'].str.replace(\" \", \"\")\n",
    "df['Genres'] = df['Genres'].str.replace(\" \", \"\")"
   ]
  },
  {
   "cell_type": "code",
   "execution_count": 14,
   "id": "ba036ecc-2658-4a77-b0d2-fc6cd89423e9",
   "metadata": {},
   "outputs": [
    {
     "data": {
      "text/plain": [
       "'adultstandards,easylistening'"
      ]
     },
     "execution_count": 14,
     "metadata": {},
     "output_type": "execute_result"
    }
   ],
   "source": [
    "df['Genres'][0]"
   ]
  },
  {
   "cell_type": "code",
   "execution_count": 15,
   "id": "8fe96218-d467-43d7-a3c0-2e89f695b9b1",
   "metadata": {},
   "outputs": [],
   "source": [
    "df['Artists'] = df['Artists'].apply(lambda x: x.split())\n",
    "df['Genres'] = df['Genres'].apply(lambda x: x.split())\n",
    "df['Album'] = df['Album'].apply(lambda x: x.split())"
   ]
  },
  {
   "cell_type": "code",
   "execution_count": 16,
   "id": "0b760706-4803-40f4-9e8c-dd8d2b0c68dd",
   "metadata": {},
   "outputs": [],
   "source": [
    "df['Tags'] = df['Album'] + df['Artists'] + df['Genres']"
   ]
  },
  {
   "cell_type": "code",
   "execution_count": 17,
   "id": "ccde087c-441e-4148-abd6-d59ed64ab29a",
   "metadata": {},
   "outputs": [],
   "source": [
    "df = df.drop(['Album','Artists','Genres'],axis=1)"
   ]
  },
  {
   "cell_type": "code",
   "execution_count": 18,
   "id": "51a5d6d9-b9d4-45a4-8740-2cba80a748e7",
   "metadata": {},
   "outputs": [],
   "source": [
    "df['Tags'] = df['Tags'].apply(lambda x:\" \".join(x))"
   ]
  },
  {
   "cell_type": "code",
   "execution_count": 19,
   "id": "75e1775c-6ade-499f-b557-93b154c0a17f",
   "metadata": {},
   "outputs": [
    {
     "data": {
      "text/html": [
       "<div>\n",
       "<style scoped>\n",
       "    .dataframe tbody tr th:only-of-type {\n",
       "        vertical-align: middle;\n",
       "    }\n",
       "\n",
       "    .dataframe tbody tr th {\n",
       "        vertical-align: top;\n",
       "    }\n",
       "\n",
       "    .dataframe thead th {\n",
       "        text-align: right;\n",
       "    }\n",
       "</style>\n",
       "<table border=\"1\" class=\"dataframe\">\n",
       "  <thead>\n",
       "    <tr style=\"text-align: right;\">\n",
       "      <th></th>\n",
       "      <th>Song</th>\n",
       "      <th>Tags</th>\n",
       "    </tr>\n",
       "  </thead>\n",
       "  <tbody>\n",
       "    <tr>\n",
       "      <th>0</th>\n",
       "      <td>Prisoner of Love - Remastered - 1992</td>\n",
       "      <td>Today&amp;Yesterday PerryComo adultstandards,easyl...</td>\n",
       "    </tr>\n",
       "    <tr>\n",
       "      <th>1</th>\n",
       "      <td>To Each His Own</td>\n",
       "      <td>TheBestOfTheMercuryYears EddyHoward britishdan...</td>\n",
       "    </tr>\n",
       "    <tr>\n",
       "      <th>2</th>\n",
       "      <td>The Gypsy</td>\n",
       "      <td>TheAnthology TheInkSpots vocalharmonygroup,lounge</td>\n",
       "    </tr>\n",
       "    <tr>\n",
       "      <th>3</th>\n",
       "      <td>Five Minutes More</td>\n",
       "      <td>TheColumbiaYears(1943-1952):TheCompleteRecordi...</td>\n",
       "    </tr>\n",
       "    <tr>\n",
       "      <th>4</th>\n",
       "      <td>Rumors Are Flying</td>\n",
       "      <td>1946Broadcasts FrankieCarle spaceagepop,honky-...</td>\n",
       "    </tr>\n",
       "  </tbody>\n",
       "</table>\n",
       "</div>"
      ],
      "text/plain": [
       "                                   Song  \\\n",
       "0  Prisoner of Love - Remastered - 1992   \n",
       "1                       To Each His Own   \n",
       "2                             The Gypsy   \n",
       "3                     Five Minutes More   \n",
       "4                     Rumors Are Flying   \n",
       "\n",
       "                                                Tags  \n",
       "0  Today&Yesterday PerryComo adultstandards,easyl...  \n",
       "1  TheBestOfTheMercuryYears EddyHoward britishdan...  \n",
       "2  TheAnthology TheInkSpots vocalharmonygroup,lounge  \n",
       "3  TheColumbiaYears(1943-1952):TheCompleteRecordi...  \n",
       "4  1946Broadcasts FrankieCarle spaceagepop,honky-...  "
      ]
     },
     "execution_count": 19,
     "metadata": {},
     "output_type": "execute_result"
    }
   ],
   "source": [
    "df.head()"
   ]
  },
  {
   "cell_type": "code",
   "execution_count": 20,
   "id": "67558204-2a9e-4349-822c-d4efa5f5a0d8",
   "metadata": {},
   "outputs": [],
   "source": [
    "df['Tags'] = df['Tags'].apply(lambda x: x.lower())"
   ]
  },
  {
   "cell_type": "code",
   "execution_count": 21,
   "id": "8827f0ce-4e23-4d52-bf3e-4455fecec077",
   "metadata": {},
   "outputs": [],
   "source": [
    "import nltk\n",
    "from nltk.stem.porter import PorterStemmer\n",
    "ps = PorterStemmer()"
   ]
  },
  {
   "cell_type": "code",
   "execution_count": 22,
   "id": "514cbc90-594d-4a27-9670-72fa23d583eb",
   "metadata": {},
   "outputs": [],
   "source": [
    "def stem(text):\n",
    "    y = []\n",
    "    for i in text.split():\n",
    "        y.append(ps.stem(i))\n",
    "    return \" \".join(y)"
   ]
  },
  {
   "cell_type": "code",
   "execution_count": 23,
   "id": "03b2f589-18db-43d1-9daf-c6092f406c3f",
   "metadata": {},
   "outputs": [],
   "source": [
    "df['Tags'] = df['Tags'].apply(stem)"
   ]
  },
  {
   "cell_type": "code",
   "execution_count": 24,
   "id": "69a7c466-2884-4053-8d93-6f99740393bc",
   "metadata": {},
   "outputs": [
    {
     "data": {
      "text/plain": [
       "'today&yesterday perrycomo adultstandards,easylisten'"
      ]
     },
     "execution_count": 24,
     "metadata": {},
     "output_type": "execute_result"
    }
   ],
   "source": [
    "df['Tags'][0]"
   ]
  },
  {
   "cell_type": "code",
   "execution_count": 25,
   "id": "bff103f5-b52e-4ecd-8675-04972ad057ed",
   "metadata": {},
   "outputs": [],
   "source": [
    "from sklearn.feature_extraction.text import CountVectorizer\n",
    "cv = CountVectorizer(max_features=5000,stop_words='english')"
   ]
  },
  {
   "cell_type": "code",
   "execution_count": 26,
   "id": "c1185317-f918-4a77-86f9-e96292c5c56b",
   "metadata": {},
   "outputs": [],
   "source": [
    "vectors = cv.fit_transform(df['Tags']).toarray()"
   ]
  },
  {
   "cell_type": "code",
   "execution_count": 27,
   "id": "e14e3f9c-c81a-4d92-acf9-bc5e19eff29a",
   "metadata": {},
   "outputs": [
    {
     "data": {
      "text/plain": [
       "array([0, 0, 0, ..., 0, 0, 0], dtype=int64)"
      ]
     },
     "execution_count": 27,
     "metadata": {},
     "output_type": "execute_result"
    }
   ],
   "source": [
    "vectors[0]"
   ]
  },
  {
   "cell_type": "code",
   "execution_count": 28,
   "id": "22622bd9-0ef1-4e0d-8fc0-19758cca59f0",
   "metadata": {},
   "outputs": [
    {
     "data": {
      "text/plain": [
       "6879"
      ]
     },
     "execution_count": 28,
     "metadata": {},
     "output_type": "execute_result"
    }
   ],
   "source": [
    "df['Song'].count()"
   ]
  },
  {
   "cell_type": "code",
   "execution_count": 29,
   "id": "d52a5121-57fc-41bd-b3be-52ac35faf469",
   "metadata": {},
   "outputs": [],
   "source": [
    "from sklearn.metrics.pairwise import cosine_similarity"
   ]
  },
  {
   "cell_type": "code",
   "execution_count": 30,
   "id": "260150c5-1ba3-4ede-b34b-6724c4105288",
   "metadata": {},
   "outputs": [],
   "source": [
    "similarity = cosine_similarity(vectors)"
   ]
  },
  {
   "cell_type": "code",
   "execution_count": 31,
   "id": "7808be8e-9dfc-4a9f-95c5-febff93ff5a2",
   "metadata": {},
   "outputs": [
    {
     "data": {
      "text/plain": [
       "array([0., 1., 0., ..., 0., 0., 0.])"
      ]
     },
     "execution_count": 31,
     "metadata": {},
     "output_type": "execute_result"
    }
   ],
   "source": [
    "similarity[1]"
   ]
  },
  {
   "cell_type": "code",
   "execution_count": 32,
   "id": "da5c567e-75a1-4521-b9f4-83c96a23f3c4",
   "metadata": {},
   "outputs": [
    {
     "data": {
      "text/plain": [
       "[(27, 0.9999999999999999),\n",
       " (396, 0.9999999999999999),\n",
       " (36, 0.7745966692414834),\n",
       " (213, 0.7745966692414834),\n",
       " (10, 0.6708203932499369),\n",
       " (54, 0.6708203932499369),\n",
       " (59, 0.6708203932499369),\n",
       " (112, 0.6708203932499369),\n",
       " (130, 0.6708203932499369),\n",
       " (141, 0.6708203932499369)]"
      ]
     },
     "execution_count": 32,
     "metadata": {},
     "output_type": "execute_result"
    }
   ],
   "source": [
    "sorted(list(enumerate(similarity[0])),reverse=True,key=lambda x: x[1])[1:11]"
   ]
  },
  {
   "cell_type": "code",
   "execution_count": 99,
   "id": "884305c2-36cb-46a5-9f3c-63df88727f3b",
   "metadata": {},
   "outputs": [],
   "source": [
    "def recommend(song):\n",
    "    movie_index = df[df['Song'] == song].index[0]\n",
    "    distances = similarity[movie_index]\n",
    "    song_list = sorted(list(enumerate(distances)),reverse=True,key=lambda x: x[1])[1:11]\n",
    "\n",
    "    \n",
    "    for i in song_list:\n",
    "        # print(df.iloc[i[0]].Song)\n",
    "        print(i)"
   ]
  },
  {
   "cell_type": "code",
   "execution_count": null,
   "id": "423c374c-5a41-494b-97df-3366dc7d9965",
   "metadata": {},
   "outputs": [],
   "source": [
    "C:\\Users\\DELL\\OneDrive\\Documents\\Web Dev\\Song_Recommender\\music logo.png"
   ]
  },
  {
   "cell_type": "code",
   "execution_count": 103,
   "id": "03f28268-c03f-4134-a005-db9cc20b9f9d",
   "metadata": {},
   "outputs": [
    {
     "name": "stdout",
     "output_type": "stream",
     "text": [
      "(6471, 0.8451542547285165)\n",
      "(5257, 0.7715167498104596)\n",
      "(6778, 0.7559289460184544)\n",
      "(6175, 0.6299407883487119)\n",
      "(6459, 0.5976143046671968)\n",
      "(6543, 0.5714285714285713)\n",
      "(6761, 0.5669467095138407)\n",
      "(1437, 0.5345224838248487)\n",
      "(6468, 0.5202659817144719)\n",
      "(6800, 0.50709255283711)\n"
     ]
    }
   ],
   "source": [
    "recommend('Despacito')"
   ]
  },
  {
   "cell_type": "code",
   "execution_count": 35,
   "id": "b3b36a1f-4a94-4919-ae04-34fe1c1f5a9b",
   "metadata": {},
   "outputs": [
    {
     "data": {
      "text/html": [
       "<div>\n",
       "<style scoped>\n",
       "    .dataframe tbody tr th:only-of-type {\n",
       "        vertical-align: middle;\n",
       "    }\n",
       "\n",
       "    .dataframe tbody tr th {\n",
       "        vertical-align: top;\n",
       "    }\n",
       "\n",
       "    .dataframe thead th {\n",
       "        text-align: right;\n",
       "    }\n",
       "</style>\n",
       "<table border=\"1\" class=\"dataframe\">\n",
       "  <thead>\n",
       "    <tr style=\"text-align: right;\">\n",
       "      <th></th>\n",
       "      <th>Song</th>\n",
       "      <th>Tags</th>\n",
       "    </tr>\n",
       "  </thead>\n",
       "  <tbody>\n",
       "    <tr>\n",
       "      <th>0</th>\n",
       "      <td>Prisoner of Love - Remastered - 1992</td>\n",
       "      <td>today&amp;yesterday perrycomo adultstandards,easyl...</td>\n",
       "    </tr>\n",
       "    <tr>\n",
       "      <th>1</th>\n",
       "      <td>To Each His Own</td>\n",
       "      <td>thebestofthemercuryyear eddyhoward britishdanc...</td>\n",
       "    </tr>\n",
       "    <tr>\n",
       "      <th>2</th>\n",
       "      <td>The Gypsy</td>\n",
       "      <td>theantholog theinkspot vocalharmonygroup,loung</td>\n",
       "    </tr>\n",
       "    <tr>\n",
       "      <th>3</th>\n",
       "      <td>Five Minutes More</td>\n",
       "      <td>thecolumbiayears(1943-1952):thecompleterecordi...</td>\n",
       "    </tr>\n",
       "    <tr>\n",
       "      <th>4</th>\n",
       "      <td>Rumors Are Flying</td>\n",
       "      <td>1946broadcast frankiecarl spaceagepop,honky-to...</td>\n",
       "    </tr>\n",
       "  </tbody>\n",
       "</table>\n",
       "</div>"
      ],
      "text/plain": [
       "                                   Song  \\\n",
       "0  Prisoner of Love - Remastered - 1992   \n",
       "1                       To Each His Own   \n",
       "2                             The Gypsy   \n",
       "3                     Five Minutes More   \n",
       "4                     Rumors Are Flying   \n",
       "\n",
       "                                                Tags  \n",
       "0  today&yesterday perrycomo adultstandards,easyl...  \n",
       "1  thebestofthemercuryyear eddyhoward britishdanc...  \n",
       "2     theantholog theinkspot vocalharmonygroup,loung  \n",
       "3  thecolumbiayears(1943-1952):thecompleterecordi...  \n",
       "4  1946broadcast frankiecarl spaceagepop,honky-to...  "
      ]
     },
     "execution_count": 35,
     "metadata": {},
     "output_type": "execute_result"
    }
   ],
   "source": [
    "df.head()"
   ]
  },
  {
   "cell_type": "code",
   "execution_count": 36,
   "id": "df5b01e4-a4d1-42f4-80b6-0d67ae35d60b",
   "metadata": {},
   "outputs": [],
   "source": [
    "df.to_csv('song_tags.csv')"
   ]
  },
  {
   "cell_type": "code",
   "execution_count": 37,
   "id": "1148c77d-0481-455c-af38-5522da99fabe",
   "metadata": {},
   "outputs": [],
   "source": [
    "import pickle"
   ]
  },
  {
   "cell_type": "code",
   "execution_count": 38,
   "id": "890e81f7-db05-477c-bd3d-4aacc13dc7f8",
   "metadata": {},
   "outputs": [],
   "source": [
    "# pickle.dump(df,open('songs.pkl','wb'))"
   ]
  },
  {
   "cell_type": "code",
   "execution_count": 39,
   "id": "01a3ff04-d615-4c6f-9b8d-bbdc2990e4d8",
   "metadata": {},
   "outputs": [],
   "source": [
    "# pickle.dump(similarity,open('similarity.pkl','wb'))"
   ]
  },
  {
   "cell_type": "code",
   "execution_count": 40,
   "id": "37654426-b6ac-44cc-8061-1d29ba092329",
   "metadata": {},
   "outputs": [
    {
     "data": {
      "text/plain": [
       "array(['Prisoner of Love - Remastered - 1992', 'To Each His Own',\n",
       "       'The Gypsy', ..., 'Unholy', 'One Mississippi',\n",
       "       'Circles Around This Town'], dtype=object)"
      ]
     },
     "execution_count": 40,
     "metadata": {},
     "output_type": "execute_result"
    }
   ],
   "source": [
    "df['Song'].values"
   ]
  },
  {
   "cell_type": "code",
   "execution_count": 81,
   "id": "ae5647b4-d62b-48c3-bacf-381f389984a0",
   "metadata": {},
   "outputs": [],
   "source": [
    "# pickle.dump(df.to_dict(),open('Song_dict.pkl','wb'))"
   ]
  },
  {
   "cell_type": "code",
   "execution_count": null,
   "id": "755f6061-07c2-4321-8a0e-89c9a2526ef3",
   "metadata": {},
   "outputs": [],
   "source": []
  },
  {
   "cell_type": "code",
   "execution_count": null,
   "id": "57c0aee4-d861-4d74-b7a0-32cdbb13682e",
   "metadata": {},
   "outputs": [],
   "source": []
  },
  {
   "cell_type": "code",
   "execution_count": null,
   "id": "d556aec7-85e1-4a01-837f-2e9e7400f0ef",
   "metadata": {},
   "outputs": [],
   "source": []
  },
  {
   "cell_type": "code",
   "execution_count": null,
   "id": "815738ef-adfa-455c-a16f-f1b42869d25b",
   "metadata": {},
   "outputs": [],
   "source": []
  }
 ],
 "metadata": {
  "kernelspec": {
   "display_name": "Python 3 (ipykernel)",
   "language": "python",
   "name": "python3"
  },
  "language_info": {
   "codemirror_mode": {
    "name": "ipython",
    "version": 3
   },
   "file_extension": ".py",
   "mimetype": "text/x-python",
   "name": "python",
   "nbconvert_exporter": "python",
   "pygments_lexer": "ipython3",
   "version": "3.12.4"
  }
 },
 "nbformat": 4,
 "nbformat_minor": 5
}
